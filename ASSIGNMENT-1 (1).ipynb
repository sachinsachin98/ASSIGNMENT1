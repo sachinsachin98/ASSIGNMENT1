{
 "cells": [
  {
   "cell_type": "code",
   "execution_count": 6,
   "id": "f40ffae6-a1f6-4782-aba8-6704523a0738",
   "metadata": {},
   "outputs": [],
   "source": [
    "#Q1(1)\n",
    "a = \"string\""
   ]
  },
  {
   "cell_type": "code",
   "execution_count": 7,
   "id": "ba72c6ff-cd4c-417c-a970-73460ed26448",
   "metadata": {},
   "outputs": [
    {
     "data": {
      "text/plain": [
       "str"
      ]
     },
     "execution_count": 7,
     "metadata": {},
     "output_type": "execute_result"
    }
   ],
   "source": [
    "type(a)"
   ]
  },
  {
   "cell_type": "code",
   "execution_count": 8,
   "id": "8a2c86a3-6e48-40d4-98d6-9aaae4c70693",
   "metadata": {},
   "outputs": [],
   "source": [
    "#Q1.(2)\n",
    "a1 = [1,2,3,234.12,\"assign\"]"
   ]
  },
  {
   "cell_type": "code",
   "execution_count": 9,
   "id": "1b9d2555-352f-4f52-ae2d-b80fffd3ea9f",
   "metadata": {},
   "outputs": [
    {
     "data": {
      "text/plain": [
       "list"
      ]
     },
     "execution_count": 9,
     "metadata": {},
     "output_type": "execute_result"
    }
   ],
   "source": [
    "type(a1)"
   ]
  },
  {
   "cell_type": "code",
   "execution_count": 37,
   "id": "0073c050-4996-46a0-bbca-b24177638945",
   "metadata": {},
   "outputs": [],
   "source": [
    "#Q1(3)\n",
    "a2 = 2.45"
   ]
  },
  {
   "cell_type": "code",
   "execution_count": 36,
   "id": "f10a3728-dc19-49b1-828b-33065f35f765",
   "metadata": {},
   "outputs": [
    {
     "data": {
      "text/plain": [
       "float"
      ]
     },
     "execution_count": 36,
     "metadata": {},
     "output_type": "execute_result"
    }
   ],
   "source": [
    "type(a2)"
   ]
  },
  {
   "cell_type": "code",
   "execution_count": 38,
   "id": "0e68bcf9-021e-4717-8762-b8e7f12c6ce1",
   "metadata": {},
   "outputs": [],
   "source": [
    "#Q1(4)\n",
    "t = (1,2,3,4)"
   ]
  },
  {
   "cell_type": "code",
   "execution_count": 13,
   "id": "3a1873a0-96ab-4cc3-a791-afe358fcef38",
   "metadata": {},
   "outputs": [
    {
     "data": {
      "text/plain": [
       "tuple"
      ]
     },
     "execution_count": 13,
     "metadata": {},
     "output_type": "execute_result"
    }
   ],
   "source": [
    "type(t)"
   ]
  },
  {
   "cell_type": "code",
   "execution_count": 39,
   "id": "4819f7cc-e0be-467c-b1a1-e3d834271bef",
   "metadata": {},
   "outputs": [],
   "source": [
    "#Q2(1)\n",
    "var1 = ''"
   ]
  },
  {
   "cell_type": "code",
   "execution_count": 15,
   "id": "ecf6795a-5030-4879-8d9f-66806a04fa7d",
   "metadata": {},
   "outputs": [
    {
     "data": {
      "text/plain": [
       "str"
      ]
     },
     "execution_count": 15,
     "metadata": {},
     "output_type": "execute_result"
    }
   ],
   "source": [
    "type(var1)"
   ]
  },
  {
   "cell_type": "code",
   "execution_count": 40,
   "id": "9a2ce8d2-3015-49fe-b9f8-cf3dc5aefac8",
   "metadata": {},
   "outputs": [],
   "source": [
    "#Q2(2)\n",
    "var2 = '[ DS , ML , Python]'"
   ]
  },
  {
   "cell_type": "code",
   "execution_count": 18,
   "id": "823f8fa2-93fa-4f46-8c84-477b59029f79",
   "metadata": {},
   "outputs": [
    {
     "data": {
      "text/plain": [
       "str"
      ]
     },
     "execution_count": 18,
     "metadata": {},
     "output_type": "execute_result"
    }
   ],
   "source": [
    "type(var2)"
   ]
  },
  {
   "cell_type": "code",
   "execution_count": 41,
   "id": "a963b1ba-27ae-493f-9e54-86443f82f1a9",
   "metadata": {},
   "outputs": [],
   "source": [
    "#Q2(3)\n",
    "var3 = [ 'DS' , 'ML' , 'Python' ]"
   ]
  },
  {
   "cell_type": "code",
   "execution_count": 20,
   "id": "44149c7a-e03c-4bf4-b168-a61bac5241cb",
   "metadata": {},
   "outputs": [
    {
     "data": {
      "text/plain": [
       "list"
      ]
     },
     "execution_count": 20,
     "metadata": {},
     "output_type": "execute_result"
    }
   ],
   "source": [
    "type(var3)"
   ]
  },
  {
   "cell_type": "code",
   "execution_count": 42,
   "id": "024ae58a-631e-4b9d-b83a-988a7afd0a70",
   "metadata": {},
   "outputs": [],
   "source": [
    "#Q2(4)\n",
    "var4 = 1"
   ]
  },
  {
   "cell_type": "code",
   "execution_count": 22,
   "id": "2c4b0527-765b-438d-b2ce-7a75b220777c",
   "metadata": {},
   "outputs": [
    {
     "data": {
      "text/plain": [
       "int"
      ]
     },
     "execution_count": 22,
     "metadata": {},
     "output_type": "execute_result"
    }
   ],
   "source": [
    "type(var4)"
   ]
  },
  {
   "cell_type": "code",
   "execution_count": 43,
   "id": "f7eb1a8e-41c7-4ca4-87ce-f6cd78b2d87a",
   "metadata": {},
   "outputs": [
    {
     "data": {
      "text/plain": [
       "1.5"
      ]
     },
     "execution_count": 43,
     "metadata": {},
     "output_type": "execute_result"
    }
   ],
   "source": [
    "#Q3(1)Division (float): divides the first operand by the second eg.-\n",
    "3/2"
   ]
  },
  {
   "cell_type": "code",
   "execution_count": 44,
   "id": "b9e3961b-0522-4b8f-a36c-6d73818c0926",
   "metadata": {},
   "outputs": [
    {
     "data": {
      "text/plain": [
       "1"
      ]
     },
     "execution_count": 44,
     "metadata": {},
     "output_type": "execute_result"
    }
   ],
   "source": [
    "#Q3(2)Modulus: returns the remainder when the first operand is divided by the second eg-\n",
    "3 % 2"
   ]
  },
  {
   "cell_type": "code",
   "execution_count": 45,
   "id": "38b69cb6-d7bb-42a1-b5ec-94e8ebc3c9a8",
   "metadata": {},
   "outputs": [
    {
     "data": {
      "text/plain": [
       "1"
      ]
     },
     "execution_count": 45,
     "metadata": {},
     "output_type": "execute_result"
    }
   ],
   "source": [
    "#Q3(3)Division (floor): divides the first operand by the second eg-\n",
    "3 // 2"
   ]
  },
  {
   "cell_type": "code",
   "execution_count": 46,
   "id": "4d00b77d-9760-4e35-9eac-408b203d64e4",
   "metadata": {},
   "outputs": [
    {
     "data": {
      "text/plain": [
       "9"
      ]
     },
     "execution_count": 46,
     "metadata": {},
     "output_type": "execute_result"
    }
   ],
   "source": [
    "#Q3(4)Power: Returns first raised to power second eg-\n",
    "3 ** 2"
   ]
  },
  {
   "cell_type": "code",
   "execution_count": 47,
   "id": "e39b72f8-c605-4f6f-a29a-194de337f3be",
   "metadata": {},
   "outputs": [
    {
     "name": "stdout",
     "output_type": "stream",
     "text": [
      "<class 'int'>\n",
      "<class 'int'>\n",
      "<class 'int'>\n",
      "<class 'str'>\n",
      "<class 'float'>\n",
      "<class 'complex'>\n",
      "<class 'tuple'>\n",
      "<class 'bool'>\n",
      "<class 'dict'>\n",
      "<class 'int'>\n"
     ]
    }
   ],
   "source": [
    "#Q4\n",
    "l = [1,2,3,\"sach\",24.456,45+5j,(1,2,3),True,{'work':\"assign\"},2]\n",
    "for i in l:\n",
    "    print(type(i))"
   ]
  },
  {
   "cell_type": "code",
   "execution_count": 48,
   "id": "6bd980af-51e6-4f98-a27c-c25201197293",
   "metadata": {},
   "outputs": [
    {
     "name": "stdout",
     "output_type": "stream",
     "text": [
      "number A is divisible by B :\n",
      "5\n"
     ]
    }
   ],
   "source": [
    "#Q5\n",
    "A=50\n",
    "B=10\n",
    "if A%B==0:\n",
    "    count=A//B\n",
    "    print(\"number A is divisible by B :\")\n",
    "    print(count)\n",
    "else:\n",
    "    print(\"not divisible by B\")"
   ]
  },
  {
   "cell_type": "code",
   "execution_count": 50,
   "id": "c48fe68c-f15e-43d5-8f7c-bfc3ff56a7f1",
   "metadata": {},
   "outputs": [
    {
     "name": "stdout",
     "output_type": "stream",
     "text": [
      "num is not divisible\n",
      "num is not divisible\n",
      "num is divisible by 3 \n",
      "num is not divisible\n",
      "num is not divisible\n",
      "num is divisible by 3 \n",
      "num is not divisible\n",
      "num is not divisible\n",
      "num is divisible by 3 \n",
      "num is not divisible\n",
      "num is not divisible\n",
      "num is divisible by 3 \n",
      "num is not divisible\n",
      "num is not divisible\n",
      "num is divisible by 3 \n",
      "num is not divisible\n",
      "num is not divisible\n",
      "num is divisible by 3 \n",
      "num is not divisible\n",
      "num is not divisible\n",
      "num is divisible by 3 \n",
      "num is not divisible\n",
      "num is not divisible\n",
      "num is divisible by 3 \n",
      "num is not divisible\n"
     ]
    }
   ],
   "source": [
    "#Q6\n",
    "l1 = [1,2,3,4,5,6,7,8,9,10,11,12,13,14,15,16,17,18,19,20,21,22,23,24,25]\n",
    "for num in l1:\n",
    "    if(num % 3==0):\n",
    "        print(\"num is divisible by 3 \")\n",
    "    else:\n",
    "        print(\"num is not divisible\")"
   ]
  },
  {
   "cell_type": "code",
   "execution_count": 51,
   "id": "f68f7746-19c1-4a0d-912f-accf7927f78f",
   "metadata": {},
   "outputs": [],
   "source": [
    "#Q7\n",
    "# Mutable Datatypes:Mutable data types are those whose values can be modified after they are assigned eg-\n",
    "l3 = [1,2,3]"
   ]
  },
  {
   "cell_type": "code",
   "execution_count": 52,
   "id": "3f24c6f6-bb64-40b5-b076-2614dda95b0c",
   "metadata": {},
   "outputs": [],
   "source": [
    "l3.append(4)"
   ]
  },
  {
   "cell_type": "code",
   "execution_count": 53,
   "id": "7ca2399f-b68f-448a-9c2b-75ed58674afc",
   "metadata": {},
   "outputs": [
    {
     "data": {
      "text/plain": [
       "[1, 2, 3, 4]"
      ]
     },
     "execution_count": 53,
     "metadata": {},
     "output_type": "execute_result"
    }
   ],
   "source": [
    "l3"
   ]
  },
  {
   "cell_type": "code",
   "execution_count": 54,
   "id": "25cbaabe-55e3-475f-8f5a-4790f9291761",
   "metadata": {},
   "outputs": [],
   "source": [
    "#Immutable Datatypes:Immutable data types are those whose values cannot be modified once they are assigned eg-\n",
    "s5 = \"assign\""
   ]
  },
  {
   "cell_type": "code",
   "execution_count": 56,
   "id": "3a969e31-4f1a-48ad-9baf-84995f923336",
   "metadata": {},
   "outputs": [
    {
     "ename": "TypeError",
     "evalue": "'str' object does not support item assignment",
     "output_type": "error",
     "traceback": [
      "\u001b[0;31m---------------------------------------------------------------------------\u001b[0m",
      "\u001b[0;31mTypeError\u001b[0m                                 Traceback (most recent call last)",
      "Cell \u001b[0;32mIn[56], line 1\u001b[0m\n\u001b[0;32m----> 1\u001b[0m \u001b[43ms5\u001b[49m\u001b[43m[\u001b[49m\u001b[38;5;241;43m1\u001b[39;49m\u001b[43m]\u001b[49m \u001b[38;5;241m=\u001b[39m \u001b[38;5;124m\"\u001b[39m\u001b[38;5;124mz\u001b[39m\u001b[38;5;124m\"\u001b[39m\n",
      "\u001b[0;31mTypeError\u001b[0m: 'str' object does not support item assignment"
     ]
    }
   ],
   "source": [
    "s5[1] = \"z\""
   ]
  }
 ],
 "metadata": {
  "kernelspec": {
   "display_name": "Python 3 (ipykernel)",
   "language": "python",
   "name": "python3"
  },
  "language_info": {
   "codemirror_mode": {
    "name": "ipython",
    "version": 3
   },
   "file_extension": ".py",
   "mimetype": "text/x-python",
   "name": "python",
   "nbconvert_exporter": "python",
   "pygments_lexer": "ipython3",
   "version": "3.10.8"
  }
 },
 "nbformat": 4,
 "nbformat_minor": 5
}
